{
 "cells": [
  {
   "attachments": {},
   "cell_type": "markdown",
   "metadata": {},
   "source": [
    "# Call by Assigment"
   ]
  },
  {
   "attachments": {},
   "cell_type": "markdown",
   "metadata": {},
   "source": [
    "A prevalent misconception in Python programming surrounds its function argument passing mechanism. Contrary to common assumptions, Python uses neither call-by-value nor call-by-reference but instead adopts a strategy known as call-by-assignment.\n",
    "\n",
    "In call-by-value, a function receives a copy of the actual parameters, leaving the original variables unaltered during the function execution. Conversely, in call-by-reference, a function obtains the addresses of the actual parameters, enabling modification of the original variables within the function.\n",
    "\n",
    "Python's call-by-assignment, however, works distinctly. A function parameter in Python is assigned to a new local variable within the function's scope. Therefore, the original variable and the function's local variable reference the same object.\n",
    "\n",
    "In essence, Python's assignment operator does not clone an object but designates a label to the object. This deep understanding of Python's underlying mechanics is critical for advanced programming tasks."
   ]
  },
  {
   "attachments": {},
   "cell_type": "markdown",
   "metadata": {},
   "source": [
    "In below examples we will try to explore the call by assignment behaviour of python argument passing mechanism and understand its impact on code output."
   ]
  },
  {
   "attachments": {},
   "cell_type": "markdown",
   "metadata": {},
   "source": [
    "## Examples"
   ]
  },
  {
   "attachments": {},
   "cell_type": "markdown",
   "metadata": {},
   "source": [
    "We have defined two functions; _**func1**_ and _**func2**_ below respectively.\n",
    "\n",
    "Both function performs same operation of adding x element provided by user to the array.\n",
    "\n",
    "Only difference between two functions is the default value of array. In first case its empty **list** and in second case its empty **tuple**."
   ]
  },
  {
   "cell_type": "code",
   "execution_count": 1,
   "metadata": {},
   "outputs": [],
   "source": [
    "def func1(x: int, y: list[int] = []) -> list[int]:\n",
    "    y += [x]\n",
    "    return y\n",
    "\n",
    "def func2(x: int, y: tuple[int] = ()) -> tuple[int]:\n",
    "    y += (x,)\n",
    "    return y"
   ]
  },
  {
   "attachments": {},
   "cell_type": "markdown",
   "metadata": {},
   "source": [
    "When we call the two functions for the first time we get similar output as below."
   ]
  },
  {
   "cell_type": "code",
   "execution_count": 2,
   "metadata": {},
   "outputs": [
    {
     "name": "stdout",
     "output_type": "stream",
     "text": [
      "[1]\n",
      "(1,)\n"
     ]
    }
   ],
   "source": [
    "print(func1(1))\n",
    "print(func2(1))"
   ]
  },
  {
   "attachments": {},
   "cell_type": "markdown",
   "metadata": {},
   "source": [
    "When the functions are called for the second time it returns different outputs."
   ]
  },
  {
   "cell_type": "code",
   "execution_count": 3,
   "metadata": {},
   "outputs": [
    {
     "name": "stdout",
     "output_type": "stream",
     "text": [
      "[1, 2]\n",
      "(2,)\n"
     ]
    }
   ],
   "source": [
    "print(func1(2))\n",
    "print(func2(2))"
   ]
  },
  {
   "attachments": {},
   "cell_type": "markdown",
   "metadata": {},
   "source": [
    "### Explaination"
   ]
  },
  {
   "attachments": {},
   "cell_type": "markdown",
   "metadata": {},
   "source": [
    "1. In Python, when you declare a function with default arguments, those defaults are only evaluated once, at the time of function definition. They are not re-evaluated every time the function is called. This is why mutable defaults can have such surprising behavior.\n",
    "\n",
    "2. When func1 is called, if no second argument is provided, then the local variable y inside the function is assigned to reference the same list object. This is not a new list - it's the same list that was created when the function was defined. So if you modify y inside the function (which you can do, because lists are mutable), you're modifying that original list.\n",
    "\n",
    "3. However, when func2 is called, if no second argument is provided, the local variable y inside the function is again assigned to reference the original tuple. But because tuples are immutable, you can't modify the original tuple. When you try to append x to y with +=, Python first creates a new tuple that includes the elements of y plus x, and then y is updated to reference this new tuple. So you're not changing the original tuple, and each call to the function behaves independently.\n",
    "\n",
    "\n",
    "\"everything in Python is an object\" and \"variables are just labels referencing objects\" can lead to behavior that might be surprising if you're expecting Python to behave like languages with more traditional \"call by value\" or \"call by reference\" semantics."
   ]
  }
 ],
 "metadata": {
  "kernelspec": {
   "display_name": "Python 3",
   "language": "python",
   "name": "python3"
  },
  "language_info": {
   "codemirror_mode": {
    "name": "ipython",
    "version": 3
   },
   "file_extension": ".py",
   "mimetype": "text/x-python",
   "name": "python",
   "nbconvert_exporter": "python",
   "pygments_lexer": "ipython3",
   "version": "3.10.5"
  },
  "orig_nbformat": 4,
  "vscode": {
   "interpreter": {
    "hash": "370c74868648aac3f341f10001068a3db929dcacee0245a3a7ac9bf596513363"
   }
  }
 },
 "nbformat": 4,
 "nbformat_minor": 2
}
