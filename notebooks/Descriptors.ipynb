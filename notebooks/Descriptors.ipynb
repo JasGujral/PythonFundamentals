{
 "cells": [
  {
   "cell_type": "markdown",
   "metadata": {},
   "source": [
    "Another key tool in developing data-intensive applications in python is descriptors.\n",
    "Even though they are the heart of python's attribute access mechanism,  many seasonal developers are not aware of them.\n",
    "\n",
    "Every python developer uses them without knowing about them. Few of the core functionalities in python which uses descriptors under the hood are:\n",
    "1- Properties\n",
    "2- Static and Class methods\n",
    "3- Super\n",
    "4- lru-cache in functools\n",
    "5- Slots for declaring static attributes in class.\n",
    "6- Field types in ORMs such as sqlalchemy.\n",
    "\n",
    "\n",
    "Descriptors allow developer to customize the behavior of attribute retrieval, access, and deletion. Many of you must be thinking is that we can achieve the same using properties but additional benefit of descriptors is that you can reuse them to assign same behavior to multiple attributes in different objects.\n",
    "\n",
    "## Use-cases of descriptors \n",
    "1. **Validation and Transformation:** Ensure attributes meet specific criteria during assignment.\n",
    "\n",
    "2. **Lazy Loading:** Defer loading resource-intensive data until the attribute is accessed.\n",
    "\n",
    "3. **Attribute Management:** Centrally control and customize behavior for multiple attributes.\n",
    "\n",
    "4. **Atomic Operations with Descriptor Factories:** Dynamically generate descriptors with shared behavior.\n",
    "\n",
    "5. **Attribute-Scoped Validation:** Apply attribute-specific constraints to enhance data integrity.\n",
    "\n",
    "6. **Effortless Memoization:** Optimize performance by caching results of expensive computations.\n",
    "\n",
    "7. **Customizing Attribute Retrieval:** Tailor the way attribute values are retrieved.\n",
    "\n",
    "8. **Enforcing Constraints on Attribute Values:** Ensure attributes adhere to defined rules.\n",
    "\n",
    "9. **Centralized Attribute Management:** Implement consistent behavior for attributes across classes.\n",
    "\n",
    "10. **Facilitating Lazy Computation:** Delay computation until attribute access, improving efficiency.\n",
    "\n",
    "11. **Implementing Read-Only Attributes:** Restrict attributes to be read-only.\n",
    "\n",
    "12. **Enabling Calculated Attributes:** Compute attribute values on-the-fly based on other attributes.\n",
    "\n",
    "13. **Dynamic Generation of Attributes:** Create attributes dynamically with shared functionality.\n",
    "\n",
    "14. **Ensuring Consistent Data Types:** Enforce uniform data types for attributes.\n",
    "\n",
    "15. **Intercepting Attribute Assignments:** Perform actions or checks when attributes are assigned.\n",
    "\n",
    "16. **Implementing Attribute-specific Logic:** Define custom logic for individual attributes.\n",
    "\n",
    "17. **Fine-grained Control over Attribute Access:** Customize access patterns for precise control.\n",
    "\n",
    "18. **Optimizing Performance through Caching:** Improve speed by storing and reusing computed values.\n",
    "\n",
    "19. **Implementing Data Descriptor for ORM Fields:** Use descriptors to define attributes in Object-Relational Mapping (ORM).\n",
    "\n",
    "20. **Customizing Behavior of Class Methods:** Extend or modify behavior of class methods using descriptors.\n",
    "\n",
    "21. **Implementing Attribute-level Security Checks:** Enforce security measures at the attribute level.\n",
    "\n",
    "22. **Achieving Atomicity in Attribute Assignments:** Ensure consistency by performing atomic operations during assignment.\n",
    "\n",
    "23. **Implementing Customizable Default Values:** Set default values with flexibility for customization.\n",
    "\n",
    "24. **Dynamic Adjustment of Attribute Values:** Modify attribute values dynamically based on conditions.\n",
    "\n",
    "25. **Implementing Reference Counting Mechanisms:** Manage references and control object lifecycle through attribute counting.\n"
   ]
  },
  {
   "cell_type": "markdown",
   "metadata": {},
   "source": [
    "# How to define descriptors\n",
    "\n",
    "Defining a descriptor in Python involves creating a class with one or more of the special methods __get__, __set__, and __delete__. These methods determine how attribute retrieval, assignment, and deletion are handled when an instance of the descriptor class is part of another object. \n",
    "\n",
    "Descriptor is a protocol-based feature. No subclassing is needed to implement it."
   ]
  },
  {
   "cell_type": "code",
   "execution_count": 1,
   "metadata": {},
   "outputs": [],
   "source": [
    "class MyDescriptor:\n",
    "    def __get__(self, instance, owner):\n",
    "        # Define behavior for attribute retrieval\n",
    "        print(f\"Getting attribute in {owner} instance\")\n",
    "        return instance._value\n",
    "\n",
    "    def __set__(self, instance, value):\n",
    "        # Define behavior for attribute assignment\n",
    "        print(f\"Setting attribute in {instance} instance to {value}\")\n",
    "        instance._value = value\n",
    "\n",
    "    def __delete__(self, instance):\n",
    "        # Define behavior for attribute deletion\n",
    "        print(f\"Deleting attribute in {instance} instance\")\n",
    "        del instance._value\n",
    "\n",
    "class MyClass:\n",
    "    descriptor_attribute = MyDescriptor()\n",
    "\n",
    "    def __init__(self, initial_value):\n",
    "        self._value = initial_value\n"
   ]
  },
  {
   "cell_type": "markdown",
   "metadata": {},
   "source": [
    "Example usage"
   ]
  },
  {
   "cell_type": "code",
   "execution_count": 2,
   "metadata": {},
   "outputs": [
    {
     "name": "stdout",
     "output_type": "stream",
     "text": [
      "Getting attribute in <class '__main__.MyClass'> instance\n",
      "42\n",
      "Setting attribute in <__main__.MyClass object at 0x1037868f0> instance to 99\n",
      "Deleting attribute in <__main__.MyClass object at 0x1037868f0> instance\n"
     ]
    }
   ],
   "source": [
    "obj = MyClass(initial_value=42)\n",
    "print(obj.descriptor_attribute)  # Invokes __get__\n",
    "obj.descriptor_attribute = 99    # Invokes __set__\n",
    "del obj.descriptor_attribute      # Invokes __delete__"
   ]
  },
  {
   "cell_type": "markdown",
   "metadata": {},
   "source": [
    "In above example, three arguments are used in `__get__`, `__set__` and `__delete__`; `self`, `instance` and `owner`. self is instance of descriptor class itself, `instance` is a instance of class (managed class) where descriptor is initialized and `owner` is reference to class of managed class. `owner` is use full in case we want to retrieve class attributes.\n",
    "\n"
   ]
  },
  {
   "cell_type": "markdown",
   "metadata": {},
   "source": [
    "### Detailed Example"
   ]
  },
  {
   "cell_type": "markdown",
   "metadata": {},
   "source": [
    "#### Validations and Transformations\n",
    "\n",
    "We can use `__set__` method to validate input values before assigning them to field.\n",
    "\n",
    "In below example, ValidationDescriptor is validating that input values are within range defined by validator."
   ]
  },
  {
   "cell_type": "code",
   "execution_count": 7,
   "metadata": {},
   "outputs": [
    {
     "name": "stdout",
     "output_type": "stream",
     "text": [
      "Setting attribute in <__main__.MyClass object at 0x1076da2c0> instance to 40\n",
      "Setting attribute in <__main__.MyClass object at 0x1076da2c0> instance to 65\n",
      "Getting attribute in <class '__main__.MyClass'> instance\n",
      "40\n",
      "Getting attribute in <class '__main__.MyClass'> instance\n",
      "65\n",
      "Getting attribute in <class '__main__.MyClass'> instance\n",
      "40\n",
      "Getting attribute in <class '__main__.MyClass'> instance\n",
      "65\n"
     ]
    }
   ],
   "source": [
    "class ValidationDescriptor:\n",
    "    def __init__(self, min_=None, max_=None):\n",
    "        self.default_value = 0\n",
    "        self.min = min_\n",
    "        self.max = max_\n",
    "\n",
    "    def __set_name__(self, owner, name):\n",
    "        self.name = name\n",
    "\n",
    "    def __get__(self, instance, owner):\n",
    "        print(f\"Getting attribute in {owner} instance\")\n",
    "        return instance.__dict__.get(self.name, self.default_value)\n",
    "\n",
    "    def __set__(self, instance, value):\n",
    "        print(f\"Setting attribute in {instance} instance to {value}\")\n",
    "        if not self.min <= value <= self.max:\n",
    "            raise ValueError(f\"{value} must be between {self.min} and {self.max}\")\n",
    "        instance.__dict__[self.name] = value\n",
    "\n",
    "\n",
    "# Usage of ValidationDescriptor\n",
    "class MyClass:\n",
    "    value1 = ValidationDescriptor(min_=0, max_=100)\n",
    "    value2 = ValidationDescriptor(min_=0, max_=100)\n",
    "    def __init__(self, value1, value2):\n",
    "        self.value1 = value1\n",
    "        self.value2 = value2\n",
    "        \n",
    "obj = MyClass(40, 65)\n",
    "print(obj.value1)  # Invokes __get__\n",
    "print(obj.value2) # Invokes __get__\n",
    "obj.int_value1 = 50    # Invokes __set__\n",
    "print(obj.value1)  # Invokes __get__\n",
    "print(obj.value2) # Invokes __get__"
   ]
  },
  {
   "cell_type": "markdown",
   "metadata": {},
   "source": [
    "<div style=\"color:red\">\n",
    "    Note: Don't use getattr in `__get__` and setattr in `__set__` as it will put your code in infinite loop.\n",
    "</div>"
   ]
  },
  {
   "cell_type": "code",
   "execution_count": null,
   "metadata": {},
   "outputs": [],
   "source": []
  }
 ],
 "metadata": {
  "kernelspec": {
   "display_name": "Python 3",
   "language": "python",
   "name": "python3"
  },
  "language_info": {
   "codemirror_mode": {
    "name": "ipython",
    "version": 3
   },
   "file_extension": ".py",
   "mimetype": "text/x-python",
   "name": "python",
   "nbconvert_exporter": "python",
   "pygments_lexer": "ipython3",
   "version": "3.10.5"
  }
 },
 "nbformat": 4,
 "nbformat_minor": 2
}
