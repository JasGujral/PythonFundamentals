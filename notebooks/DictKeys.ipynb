{
 "cells": [
  {
   "attachments": {},
   "cell_type": "markdown",
   "metadata": {},
   "source": [
    "# Dictionary Keys"
   ]
  },
  {
   "attachments": {},
   "cell_type": "markdown",
   "metadata": {},
   "source": [
    "It's a commonly accepted belief that only immutable objects can serve as dictionary keys. This is oonly partly true and is attributed to property that immutable objects have constant hash value, facilitating efficient retrieval.\n",
    "\n",
    "In reality, hashability is the real criterion for dictionary keys in Python. "
   ]
  },
  {
   "attachments": {},
   "cell_type": "markdown",
   "metadata": {},
   "source": [
    "### Digging deeper:\n",
    "\n",
    "Any hashable object can be a dictionary key. But what does 'hashable' mean? It refers to objects that have a fixed hash value for their entire lifespan, which is provided by their __hash__() method. Immutable objects inherently adhere to this criteria.\n",
    "\n",
    "Now, an intriguing question arises. Can we make mutable objects, by default unhashable, serve as dictionary keys? The answer is yes, albeit with caution. By explicitly implementing the __hash__() method for a mutable object, we can use it as a dictionary key. This, however, contradicts the typical contract of a hashable object: the hash value remaining constant despite object mutations.\n",
    "\n",
    "While Python allows this flexibility, it's not a recommended practice due to potential inaccuracies in hash-table bucketing leading to unexpected bugs. Hence, when considering the key design for your dictionary, prefer immutable objects, or explore alternate data structures if mutable keys are indispensable."
   ]
  },
  {
   "attachments": {},
   "cell_type": "markdown",
   "metadata": {},
   "source": [
    "### Example:"
   ]
  },
  {
   "attachments": {},
   "cell_type": "markdown",
   "metadata": {},
   "source": [
    "We will create mutable list and try to use it as ditionary key"
   ]
  },
  {
   "cell_type": "code",
   "execution_count": 4,
   "metadata": {},
   "outputs": [],
   "source": [
    "listA = [1, 2, 3]"
   ]
  },
  {
   "attachments": {},
   "cell_type": "markdown",
   "metadata": {},
   "source": [
    "Using ***listA*** as key in dictionary raises TypeError."
   ]
  },
  {
   "cell_type": "code",
   "execution_count": 5,
   "metadata": {},
   "outputs": [
    {
     "ename": "TypeError",
     "evalue": "unhashable type: 'list'",
     "output_type": "error",
     "traceback": [
      "\u001b[0;31m---------------------------------------------------------------------------\u001b[0m",
      "\u001b[0;31mTypeError\u001b[0m                                 Traceback (most recent call last)",
      "Cell \u001b[0;32mIn[5], line 1\u001b[0m\n\u001b[0;32m----> 1\u001b[0m \u001b[39mdict\u001b[39m \u001b[39m=\u001b[39m {listA: \u001b[39m1\u001b[39m}\n",
      "\u001b[0;31mTypeError\u001b[0m: unhashable type: 'list'"
     ]
    }
   ],
   "source": [
    "dict = {listA: 1}"
   ]
  },
  {
   "attachments": {},
   "cell_type": "markdown",
   "metadata": {},
   "source": [
    "Now we will add hash function to list and try to use it as dictionary key."
   ]
  },
  {
   "cell_type": "code",
   "execution_count": 6,
   "metadata": {},
   "outputs": [],
   "source": [
    "class HashableList(list):\n",
    "    def __hash__(self):\n",
    "        return hash(tuple(self))"
   ]
  },
  {
   "cell_type": "code",
   "execution_count": 7,
   "metadata": {},
   "outputs": [
    {
     "data": {
      "text/plain": [
       "{[1, 2, 3]: 1}"
      ]
     },
     "execution_count": 7,
     "metadata": {},
     "output_type": "execute_result"
    }
   ],
   "source": [
    "listB = HashableList([1, 2, 3])\n",
    "dictB = {listB: 1}\n",
    "dictB"
   ]
  },
  {
   "cell_type": "code",
   "execution_count": 8,
   "metadata": {},
   "outputs": [
    {
     "data": {
      "text/plain": [
       "1"
      ]
     },
     "execution_count": 8,
     "metadata": {},
     "output_type": "execute_result"
    }
   ],
   "source": [
    "dictB[listB]"
   ]
  },
  {
   "attachments": {},
   "cell_type": "markdown",
   "metadata": {},
   "source": [
    "And Voila!!!! - you are using list as a key.\n",
    "Next lets see how mutablility will still create issue."
   ]
  },
  {
   "cell_type": "code",
   "execution_count": 9,
   "metadata": {},
   "outputs": [
    {
     "data": {
      "text/plain": [
       "[1, 2, 3, 4]"
      ]
     },
     "execution_count": 9,
     "metadata": {},
     "output_type": "execute_result"
    }
   ],
   "source": [
    "listB.append(4)\n",
    "listB"
   ]
  },
  {
   "cell_type": "code",
   "execution_count": 10,
   "metadata": {},
   "outputs": [
    {
     "ename": "KeyError",
     "evalue": "[1, 2, 3, 4]",
     "output_type": "error",
     "traceback": [
      "\u001b[0;31m---------------------------------------------------------------------------\u001b[0m",
      "\u001b[0;31mKeyError\u001b[0m                                  Traceback (most recent call last)",
      "Cell \u001b[0;32mIn[10], line 1\u001b[0m\n\u001b[0;32m----> 1\u001b[0m dictB[listB]\n",
      "\u001b[0;31mKeyError\u001b[0m: [1, 2, 3, 4]"
     ]
    }
   ],
   "source": [
    "dictB[listB]"
   ]
  },
  {
   "attachments": {},
   "cell_type": "markdown",
   "metadata": {},
   "source": [
    "We can similarly implement __hash__ and __eq__ for any user defined class adn use it as dictionary key."
   ]
  }
 ],
 "metadata": {
  "kernelspec": {
   "display_name": "Python 3",
   "language": "python",
   "name": "python3"
  },
  "language_info": {
   "codemirror_mode": {
    "name": "ipython",
    "version": 3
   },
   "file_extension": ".py",
   "mimetype": "text/x-python",
   "name": "python",
   "nbconvert_exporter": "python",
   "pygments_lexer": "ipython3",
   "version": "3.10.5"
  },
  "orig_nbformat": 4,
  "vscode": {
   "interpreter": {
    "hash": "370c74868648aac3f341f10001068a3db929dcacee0245a3a7ac9bf596513363"
   }
  }
 },
 "nbformat": 4,
 "nbformat_minor": 2
}
