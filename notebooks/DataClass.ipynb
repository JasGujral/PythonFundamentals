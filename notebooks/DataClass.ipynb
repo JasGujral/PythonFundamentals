{
 "cells": [
  {
   "cell_type": "markdown",
   "metadata": {},
   "source": [
    "# Dataclasses"
   ]
  },
  {
   "cell_type": "markdown",
   "metadata": {},
   "source": [
    "Before Python 3.7, representing simple data structures often involved using tuples, dictionaries, or basic classes, each with its limitations in readability, maintainability, and structure. \n",
    "Data classes, introduced in Python 3.7 via PEP 557, addressed these challenges by offering a structured yet flexible way to define classes primarily for storing data.\n",
    "\n",
    "With **dataclasses**:\n",
    "\n",
    "- Readability is enhanced with less boilerplate and clear type annotations.\n",
    "= Maintainability improves due to auto-generated methods and reduced custom code.\n",
    "- Flexibility is achieved as they combine the best features of tuples and dictionaries.\n",
    "- Type Safety is promoted by integrating with static type checkers like mypy.\n",
    "\n",
    "In essence, data classes represent a modern approach to data-centric object-oriented programming in Python, emphasizing clarity, structure, and type safety."
   ]
  },
  {
   "cell_type": "markdown",
   "metadata": {},
   "source": [
    "Defining a dataclass"
   ]
  },
  {
   "cell_type": "code",
   "execution_count": 3,
   "metadata": {},
   "outputs": [],
   "source": [
    "from dataclasses import dataclass, field\n",
    "\n",
    "@dataclass\n",
    "class DcPerson:\n",
    "    first_name: str\n",
    "    last_name: str\n",
    "    age: int"
   ]
  },
  {
   "cell_type": "markdown",
   "metadata": {},
   "source": [
    "The dataclasses module in Python facilitates the auto-generation of boilerplate code for several foundational class operations, ensuring enhanced efficiency and maintainability. \n",
    "\n",
    "Simultaneously, it upholds the intrinsic properties and extensibility of traditional classes, ensuring that developers retain full control over the class's behavior and structure.\n",
    "\n",
    "Basic functionalities provided by dataclasses.\n",
    "\n",
    "1. **Auto-generation of Special Methods**:\n",
    "    - `__init__`: Constructor method\n",
    "    - `__repr__`: Representation method\n",
    "    - `__eq__`: Equality comparison method\n",
    "    - Ordering methods (`__lt__`, `__le__`, `__gt__`, `__ge__`) with the `order` parameter\n",
    "    - `__hash__`: Hash method, generated under certain conditions\n"
   ]
  },
  {
   "cell_type": "markdown",
   "metadata": {},
   "source": [
    "You can observe below that to define a dataclass you need not to implement the  __init__ method."
   ]
  },
  {
   "cell_type": "code",
   "execution_count": 16,
   "metadata": {},
   "outputs": [
    {
     "name": "stdout",
     "output_type": "stream",
     "text": [
      "Person(name='Alice', age=25, email='alice@example.com')\n",
      "Person(name='Bob', age=30, email='bob@example.com')\n",
      "Person(name='Charlie', age=35, email='charlie@example.com')\n"
     ]
    }
   ],
   "source": [
    "from dataclasses import dataclass, field, asdict, astuple, replace, is_dataclass\n",
    "\n",
    "@dataclass(order=True, frozen=True)\n",
    "class Person:\n",
    "    name: str\n",
    "    age: int\n",
    "    email: str = field(default='')\n",
    "\n",
    "\n",
    "person1 = Person('Alice', 25, 'alice@example.com')\n",
    "person2 = Person('Bob', 30, 'bob@example.com')\n",
    "person3 = Person('Charlie', 35, 'charlie@example.com')\n",
    "\n",
    "print(person1, person2, person3, sep='\\n')\n"
   ]
  },
  {
   "cell_type": "markdown",
   "metadata": {},
   "source": [
    "As we can observe above dataclass autoomatically adds the __repr__ implementation to class to present it with its name and all field data. </b>\n",
    "\n",
    "To exclude any field in the __repr__ representation of class, we can add `field(repr=false)` in front of field as described below."
   ]
  },
  {
   "cell_type": "code",
   "execution_count": 13,
   "metadata": {},
   "outputs": [
    {
     "name": "stdout",
     "output_type": "stream",
     "text": [
      "Person1(name='Dave', email='dave@dummuy.com')\n"
     ]
    }
   ],
   "source": [
    "@dataclass\n",
    "class Person1:\n",
    "    name: str\n",
    "    age: int = field(repr=False)\n",
    "    email: str = field(default='')\n",
    "    \n",
    "person4 = Person1('Dave', 40, 'dave@dummuy.com')\n",
    "\n",
    "print(person4)"
   ]
  },
  {
   "cell_type": "markdown",
   "metadata": {},
   "source": [
    "Unlike default classes where default equality behavior is to compare the id of class instances, dataclass compares all the field values to determine the equality by default. We can also specify which fields to ignore while implementing the `__eq__`."
   ]
  },
  {
   "cell_type": "code",
   "execution_count": 23,
   "metadata": {},
   "outputs": [
    {
     "name": "stdout",
     "output_type": "stream",
     "text": [
      "Is <__main__.DefaultPerson object at 0x107df78b0> and <__main__.DefaultPerson object at 0x107df7340> from Default class equal? False\n",
      "Is Person(name='Eve', age=45, email='dummy@abc.com') and \n",
      " Person(name='Eve', age=45, email='dummy@abc.com') from Dataclass equal? True\n"
     ]
    }
   ],
   "source": [
    "class DefaultPerson:\n",
    "    def __init__(self, name, age, email=''):\n",
    "        self.name = name\n",
    "        self.age = age\n",
    "        self.email = email\n",
    "        \n",
    "person5 = DefaultPerson('Eve', 45, 'dummy@abc.com')\n",
    "person6 = DefaultPerson('Eve', 45, 'dummy@abc.com')\n",
    "\n",
    "print(f'Is {person5} and {person6} from Default class equal? {person5 == person6}')\n",
    "\n",
    "person7 = Person('Eve', 45, 'dummy@abc.com')\n",
    "person8 = Person('Eve', 45, 'dummy@abc.com')\n",
    "\n",
    "print(f'Is {person7} and \\n {person8} from Dataclass equal? {person7 == person8}')\n"
   ]
  },
  {
   "cell_type": "markdown",
   "metadata": {},
   "source": [
    "Dataclass to only compare age of person to determine equality."
   ]
  },
  {
   "cell_type": "markdown",
   "metadata": {},
   "source": [
    "2. **Field Definitions**:\n",
    "    - Default values for fields\n",
    "    - `default_factory`: A callable that produces a default value for fields\n",
    "    - Field metadata\n"
   ]
  },
  {
   "cell_type": "markdown",
   "metadata": {},
   "source": [
    "3. **Decorator Parameters**:\n",
    "    - `order`: Generate ordering methods\n",
    "    - `frozen`: Create immutable data classes\n",
    "    - `unsafe_hash`: Force generation of a `__hash__` method\n",
    "\n",
    "4. **Utility Functions**:\n",
    "    - `dataclasses.field()`: Provides customization for individual fields\n",
    "    - `dataclasses.asdict()`: Converts data class instances to dictionaries\n",
    "    - `dataclasses.astuple()`: Converts data class instances to tuples\n",
    "    - `dataclasses.replace()`: Creates a new instance replacing specified fields\n",
    "    - `dataclasses.is_dataclass()`: Checks if an object is a data class or an instance of one\n",
    "\n",
    "5. **Post Initialization**:\n",
    "    - `__post_init__`: Allows further initialization after the `__init__` method\n",
    "\n",
    "6. **Field Objects**:\n",
    "    - Describe the name, type, and default value of each field in the data class\n",
    "\n",
    "7. **Inheritance**:\n",
    "    - Ability to inherit from other data classes and regular classes"
   ]
  },
  {
   "cell_type": "code",
   "execution_count": 1,
   "metadata": {},
   "outputs": [],
   "source": [
    "class Person:\n",
    "    \n",
    "    def __init__(self, first_name, last_name, age):\n",
    "        self.first_name = first_name\n",
    "        self.last_name = last_name\n",
    "        self.age = age"
   ]
  },
  {
   "cell_type": "code",
   "execution_count": 2,
   "metadata": {},
   "outputs": [
    {
     "data": {
      "text/plain": [
       "False"
      ]
     },
     "execution_count": 2,
     "metadata": {},
     "output_type": "execute_result"
    }
   ],
   "source": [
    "personA = Person(\"Jas\", \"Gujral\", 35)\n",
    "personB = Person(\"Jas\", \"Gujral\", 35)\n",
    "personA == personB"
   ]
  },
  {
   "cell_type": "code",
   "execution_count": 4,
   "metadata": {},
   "outputs": [
    {
     "data": {
      "text/plain": [
       "True"
      ]
     },
     "execution_count": 4,
     "metadata": {},
     "output_type": "execute_result"
    }
   ],
   "source": [
    "dc_personA = DcPerson(\"Jas\", \"Gujral\", 35)\n",
    "dc_personB = DcPerson(\"Jas\", \"Gujral\", 35)\n",
    "dc_personA == dc_personB"
   ]
  },
  {
   "cell_type": "code",
   "execution_count": 5,
   "metadata": {},
   "outputs": [
    {
     "name": "stdout",
     "output_type": "stream",
     "text": [
      "personA=<__main__.Person object at 0x107fc72e0>\n",
      "dc_personA=DcPerson(first_name='Jas', last_name='Gujral', age=35)\n"
     ]
    }
   ],
   "source": [
    "print(f'{personA=}')\n",
    "print(f'{dc_personA=}')"
   ]
  },
  {
   "cell_type": "code",
   "execution_count": 6,
   "metadata": {},
   "outputs": [
    {
     "ename": "ValueError",
     "evalue": "mutable default <class 'list'> for field friends is not allowed: use default_factory",
     "output_type": "error",
     "traceback": [
      "\u001b[0;31m---------------------------------------------------------------------------\u001b[0m",
      "\u001b[0;31mValueError\u001b[0m                                Traceback (most recent call last)",
      "Cell \u001b[0;32mIn[6], line 2\u001b[0m\n\u001b[1;32m      1\u001b[0m \u001b[39m@dataclass\u001b[39;49m\n\u001b[0;32m----> 2\u001b[0m \u001b[39mclass\u001b[39;49;00m \u001b[39mDcPerson\u001b[39;49;00m:\n\u001b[1;32m      3\u001b[0m     first_name: \u001b[39mstr\u001b[39;49m\n\u001b[1;32m      4\u001b[0m     last_name: \u001b[39mstr\u001b[39;49m\n",
      "File \u001b[0;32m~/.pyenv/versions/3.10.5/lib/python3.10/dataclasses.py:1185\u001b[0m, in \u001b[0;36mdataclass\u001b[0;34m(cls, init, repr, eq, order, unsafe_hash, frozen, match_args, kw_only, slots)\u001b[0m\n\u001b[1;32m   1182\u001b[0m     \u001b[39mreturn\u001b[39;00m wrap\n\u001b[1;32m   1184\u001b[0m \u001b[39m# We're called as @dataclass without parens.\u001b[39;00m\n\u001b[0;32m-> 1185\u001b[0m \u001b[39mreturn\u001b[39;00m wrap(\u001b[39mcls\u001b[39;49m)\n",
      "File \u001b[0;32m~/.pyenv/versions/3.10.5/lib/python3.10/dataclasses.py:1176\u001b[0m, in \u001b[0;36mdataclass.<locals>.wrap\u001b[0;34m(cls)\u001b[0m\n\u001b[1;32m   1175\u001b[0m \u001b[39mdef\u001b[39;00m \u001b[39mwrap\u001b[39m(\u001b[39mcls\u001b[39m):\n\u001b[0;32m-> 1176\u001b[0m     \u001b[39mreturn\u001b[39;00m _process_class(\u001b[39mcls\u001b[39;49m, init, \u001b[39mrepr\u001b[39;49m, eq, order, unsafe_hash,\n\u001b[1;32m   1177\u001b[0m                           frozen, match_args, kw_only, slots)\n",
      "File \u001b[0;32m~/.pyenv/versions/3.10.5/lib/python3.10/dataclasses.py:956\u001b[0m, in \u001b[0;36m_process_class\u001b[0;34m(cls, init, repr, eq, order, unsafe_hash, frozen, match_args, kw_only, slots)\u001b[0m\n\u001b[1;32m    953\u001b[0m         kw_only \u001b[39m=\u001b[39m \u001b[39mTrue\u001b[39;00m\n\u001b[1;32m    954\u001b[0m     \u001b[39melse\u001b[39;00m:\n\u001b[1;32m    955\u001b[0m         \u001b[39m# Otherwise it's a field of some type.\u001b[39;00m\n\u001b[0;32m--> 956\u001b[0m         cls_fields\u001b[39m.\u001b[39mappend(_get_field(\u001b[39mcls\u001b[39;49m, name, \u001b[39mtype\u001b[39;49m, kw_only))\n\u001b[1;32m    958\u001b[0m \u001b[39mfor\u001b[39;00m f \u001b[39min\u001b[39;00m cls_fields:\n\u001b[1;32m    959\u001b[0m     fields[f\u001b[39m.\u001b[39mname] \u001b[39m=\u001b[39m f\n",
      "File \u001b[0;32m~/.pyenv/versions/3.10.5/lib/python3.10/dataclasses.py:813\u001b[0m, in \u001b[0;36m_get_field\u001b[0;34m(cls, a_name, a_type, default_kw_only)\u001b[0m\n\u001b[1;32m    811\u001b[0m \u001b[39m# For real fields, disallow mutable defaults for known types.\u001b[39;00m\n\u001b[1;32m    812\u001b[0m \u001b[39mif\u001b[39;00m f\u001b[39m.\u001b[39m_field_type \u001b[39mis\u001b[39;00m _FIELD \u001b[39mand\u001b[39;00m \u001b[39misinstance\u001b[39m(f\u001b[39m.\u001b[39mdefault, (\u001b[39mlist\u001b[39m, \u001b[39mdict\u001b[39m, \u001b[39mset\u001b[39m)):\n\u001b[0;32m--> 813\u001b[0m     \u001b[39mraise\u001b[39;00m \u001b[39mValueError\u001b[39;00m(\u001b[39mf\u001b[39m\u001b[39m'\u001b[39m\u001b[39mmutable default \u001b[39m\u001b[39m{\u001b[39;00m\u001b[39mtype\u001b[39m(f\u001b[39m.\u001b[39mdefault)\u001b[39m}\u001b[39;00m\u001b[39m for field \u001b[39m\u001b[39m'\u001b[39m\n\u001b[1;32m    814\u001b[0m                      \u001b[39mf\u001b[39m\u001b[39m'\u001b[39m\u001b[39m{\u001b[39;00mf\u001b[39m.\u001b[39mname\u001b[39m}\u001b[39;00m\u001b[39m is not allowed: use default_factory\u001b[39m\u001b[39m'\u001b[39m)\n\u001b[1;32m    816\u001b[0m \u001b[39mreturn\u001b[39;00m f\n",
      "\u001b[0;31mValueError\u001b[0m: mutable default <class 'list'> for field friends is not allowed: use default_factory"
     ]
    }
   ],
   "source": [
    "@dataclass\n",
    "class DcPerson:\n",
    "    first_name: str\n",
    "    last_name: str\n",
    "    age: int\n",
    "    married: bool = False\n",
    "    friends: list[str] = []"
   ]
  },
  {
   "cell_type": "code",
   "execution_count": 9,
   "metadata": {},
   "outputs": [],
   "source": [
    "@dataclass\n",
    "class DcPerson:\n",
    "    first_name: str\n",
    "    last_name: str\n",
    "    age: int\n",
    "    married: bool = False\n",
    "    friends: list[str] = field(default_factory=list) # This is evoked separately for each instance of class."
   ]
  },
  {
   "cell_type": "code",
   "execution_count": 10,
   "metadata": {},
   "outputs": [
    {
     "data": {
      "text/plain": [
       "DcPerson(first_name='Jas', last_name='Gujral', age=35, married=False, friends=[])"
      ]
     },
     "execution_count": 10,
     "metadata": {},
     "output_type": "execute_result"
    }
   ],
   "source": [
    "dc_personC = DcPerson(\"Jas\", \"Gujral\", 35)\n",
    "dc_personC"
   ]
  },
  {
   "cell_type": "code",
   "execution_count": null,
   "metadata": {},
   "outputs": [],
   "source": [
    "@dataclass\n",
    "class DcPerson1:\n",
    "    person = []\n",
    "    first_name: str\n",
    "    last_name: str\n",
    "    age: int\n",
    "    \n",
    "    def __post_init__(self):\n",
    "        cls = self.__class__\n",
    "        "
   ]
  },
  {
   "cell_type": "markdown",
   "metadata": {},
   "source": [
    "For detail example and features, refer to official document => https://docs.python.org/3.10/library/dataclasses.html"
   ]
  }
 ],
 "metadata": {
  "kernelspec": {
   "display_name": "Python 3",
   "language": "python",
   "name": "python3"
  },
  "language_info": {
   "codemirror_mode": {
    "name": "ipython",
    "version": 3
   },
   "file_extension": ".py",
   "mimetype": "text/x-python",
   "name": "python",
   "nbconvert_exporter": "python",
   "pygments_lexer": "ipython3",
   "version": "3.10.5"
  },
  "orig_nbformat": 4
 },
 "nbformat": 4,
 "nbformat_minor": 2
}
