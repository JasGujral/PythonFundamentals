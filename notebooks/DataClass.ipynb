{
 "cells": [
  {
   "cell_type": "markdown",
   "metadata": {},
   "source": [
    "# Dataclasses"
   ]
  },
  {
   "cell_type": "markdown",
   "metadata": {},
   "source": [
    "Before Python 3.7, representing simple data structures often involved using tuples, dictionaries, or basic classes, each with its limitations in readability, maintainability, and structure. \n",
    "Data classes, introduced in Python 3.7 via PEP 557, addressed these challenges by offering a structured yet flexible way to define classes primarily for storing data.\n",
    "\n",
    "With **dataclasses**:\n",
    "\n",
    "- Readability is enhanced with less boilerplate and clear type annotations.\n",
    "= Maintainability improves due to auto-generated methods and reduced custom code.\n",
    "- Flexibility is achieved as they combine the best features of tuples and dictionaries.\n",
    "- Type Safety is promoted by integrating with static type checkers like mypy.\n",
    "\n",
    "In essence, data classes represent a modern approach to data-centric object-oriented programming in Python, emphasizing clarity, structure, and type safety."
   ]
  },
  {
   "cell_type": "markdown",
   "metadata": {},
   "source": [
    "Defining a dataclass"
   ]
  },
  {
   "cell_type": "code",
   "execution_count": 95,
   "metadata": {},
   "outputs": [],
   "source": [
    "from dataclasses import dataclass, field\n",
    "\n",
    "@dataclass\n",
    "class DcPerson:\n",
    "    first_name: str\n",
    "    last_name: str\n",
    "    age: int"
   ]
  },
  {
   "cell_type": "markdown",
   "metadata": {},
   "source": [
    "The dataclasses module in Python facilitates the auto-generation of boilerplate code for several foundational class operations, ensuring enhanced efficiency and maintainability. \n",
    "\n",
    "Simultaneously, it upholds the intrinsic properties and extensibility of traditional classes, ensuring that developers retain full control over the class's behavior and structure.\n",
    "\n",
    "Basic functionalities provided by dataclasses.\n",
    "\n",
    "1. **Auto-generation of Special Methods**:\n",
    "    - `__init__`: Constructor method\n",
    "    - `__repr__`: Representation method\n",
    "    - `__eq__`: Equality comparison method\n",
    "    - Ordering methods (`__lt__`, `__le__`, `__gt__`, `__ge__`) with the `order` parameter\n",
    "    - `__hash__`: Hash method, generated under certain conditions\n"
   ]
  },
  {
   "cell_type": "markdown",
   "metadata": {},
   "source": [
    "You can observe below that to define a dataclass you need not to implement the  __init__ method."
   ]
  },
  {
   "cell_type": "code",
   "execution_count": 96,
   "metadata": {},
   "outputs": [
    {
     "name": "stdout",
     "output_type": "stream",
     "text": [
      "Person(name='Alice', age=25, email='alice@example.com')\n",
      "Person(name='Bob', age=30, email='bob@example.com')\n",
      "Person(name='Charlie', age=35, email='charlie@example.com')\n"
     ]
    }
   ],
   "source": [
    "from dataclasses import dataclass, field, asdict, astuple, replace, is_dataclass\n",
    "\n",
    "@dataclass(order=True, frozen=True)\n",
    "class Person:\n",
    "    name: str\n",
    "    age: int\n",
    "    email: str = field(default='')\n",
    "\n",
    "\n",
    "person1 = Person('Alice', 25, 'alice@example.com')\n",
    "person2 = Person('Bob', 30, 'bob@example.com')\n",
    "person3 = Person('Charlie', 35, 'charlie@example.com')\n",
    "\n",
    "print(person1, person2, person3, sep='\\n')\n"
   ]
  },
  {
   "cell_type": "markdown",
   "metadata": {},
   "source": [
    "As we can observe above dataclass autoomatically adds the __repr__ implementation to class to present it with its name and all field data. </b>\n",
    "\n",
    "To exclude any field in the __repr__ representation of class, we can add `field(repr=false)` in front of field as described below."
   ]
  },
  {
   "cell_type": "code",
   "execution_count": 97,
   "metadata": {},
   "outputs": [
    {
     "name": "stdout",
     "output_type": "stream",
     "text": [
      "Person1(name='Dave', email='dave@dummuy.com')\n"
     ]
    }
   ],
   "source": [
    "@dataclass\n",
    "class Person1:\n",
    "    name: str\n",
    "    age: int = field(repr=False)\n",
    "    email: str = field(default='')\n",
    "    \n",
    "person4 = Person1('Dave', 40, 'dave@dummuy.com')\n",
    "\n",
    "print(person4)"
   ]
  },
  {
   "cell_type": "markdown",
   "metadata": {},
   "source": [
    "Unlike default classes where default equality behavior is to compare the id of class instances, dataclass compares all the field values to determine the equality by default. We can also specify which fields to ignore while implementing the `__eq__`."
   ]
  },
  {
   "cell_type": "code",
   "execution_count": 98,
   "metadata": {},
   "outputs": [
    {
     "name": "stdout",
     "output_type": "stream",
     "text": [
      "Is <__main__.DefaultPerson object at 0x10c6e3700> and <__main__.DefaultPerson object at 0x10c6e12d0> from Default class equal? False\n",
      "Is Person(name='Eve', age=45, email='dummy@abc.com') and \n",
      " Person(name='Eve', age=45, email='dummy@abc.com') from Dataclass equal? True\n"
     ]
    }
   ],
   "source": [
    "class DefaultPerson:\n",
    "    def __init__(self, name, age, email=''):\n",
    "        self.name = name\n",
    "        self.age = age\n",
    "        self.email = email\n",
    "        \n",
    "person5 = DefaultPerson('Eve', 45, 'dummy@abc.com')\n",
    "person6 = DefaultPerson('Eve', 45, 'dummy@abc.com')\n",
    "\n",
    "print(f'Is {person5} and {person6} from Default class equal? {person5 == person6}')\n",
    "\n",
    "person7 = Person('Eve', 45, 'dummy@abc.com')\n",
    "person8 = Person('Eve', 45, 'dummy@abc.com')\n",
    "\n",
    "print(f'Is {person7} and \\n {person8} from Dataclass equal? {person7 == person8}')\n"
   ]
  },
  {
   "cell_type": "markdown",
   "metadata": {},
   "source": [
    "Dataclass to only compare age of person to determine equality."
   ]
  },
  {
   "cell_type": "markdown",
   "metadata": {},
   "source": [
    "2. **Field Definitions**:\n",
    "    - Default values for fields\n",
    "    - `default_factory`: A callable that produces a default value for fields\n",
    "    - Field metadata\n"
   ]
  },
  {
   "cell_type": "markdown",
   "metadata": {},
   "source": [
    "Dataclass default behavior restrict  from assigning mutable default value to the field.\n",
    "To add a default value we can use default_factory which initiates separate default value for each instance of the dataclass."
   ]
  },
  {
   "cell_type": "code",
   "execution_count": 99,
   "metadata": {},
   "outputs": [
    {
     "name": "stdout",
     "output_type": "stream",
     "text": [
      "mutable default <class 'list'> for field list_values is not allowed: use default_factory\n",
      "Person10 list values: [1] \n",
      "Person11 list values: []\n"
     ]
    }
   ],
   "source": [
    "try:\n",
    "    @dataclass\n",
    "    class PersonMutableDefault:\n",
    "        name: str\n",
    "        age: int = field(repr=False)\n",
    "        email: str = field(default='')\n",
    "        list_values: list = []\n",
    "except ValueError as e:\n",
    "    print(str(e))\n",
    "    \n",
    "@dataclass\n",
    "class PersonDefaultFactory:\n",
    "    name: str\n",
    "    age: int = field(repr=False)\n",
    "    email: str = field(default='')\n",
    "    list_values: list = field(default_factory=list)\n",
    "    \n",
    "person10 = PersonDefaultFactory('Eve', 45, 'test@test.com')\n",
    "person10.list_values.append(1)\n",
    "\n",
    "person11 = PersonDefaultFactory('Dave', 40, 'dave@tests.com')\n",
    "\n",
    "print(f'Person10 list values: {person10.list_values} \\nPerson11 list values: {person11.list_values}')"
   ]
  },
  {
   "cell_type": "markdown",
   "metadata": {},
   "source": [
    "3. **Decorator Parameters**:\n",
    "    - `order`: Generate ordering methods\n",
    "    - `frozen`: Create immutable data classes\n",
    "    - `unsafe_hash`: Force generation of a `__hash__` method"
   ]
  },
  {
   "cell_type": "markdown",
   "metadata": {},
   "source": [
    "Ordering allow us to use `> and <` comparisons based on the fields which are available for comparison."
   ]
  },
  {
   "cell_type": "code",
   "execution_count": 100,
   "metadata": {},
   "outputs": [
    {
     "name": "stdout",
     "output_type": "stream",
     "text": [
      "Field comparison in order of declaration (name is getting compared): \n",
      "Is PersonOrder(name='Alice', age=30) > PersonOrder(name='Bob', age=25)? False\n",
      "\n",
      "Field comparison based on age: \n",
      "Is PersonOrderAge(name='Alice', age=30) > PersonOrderAge(name='Bob', age=25)? True\n"
     ]
    }
   ],
   "source": [
    "@dataclass(order=True)\n",
    "class PersonOrder:\n",
    "    name: str\n",
    "    age: int\n",
    "    \n",
    "person12 = PersonOrder('Alice', 30)\n",
    "person13 = PersonOrder('Bob', 25)\n",
    "\n",
    "print(f'Field comparison in order of declaration (name is getting compared): \\nIs {person12} > {person13}? {person12 > person13}')\n",
    "\n",
    "@dataclass(order=True)\n",
    "class PersonOrderAge:\n",
    "    name: str = field(compare=False)\n",
    "    age: int\n",
    "    \n",
    "person14 = PersonOrderAge('Alice', 30)\n",
    "person15 = PersonOrderAge('Bob', 25)\n",
    "\n",
    "print()\n",
    "print(f'Field comparison based on age: \\nIs {person14} > {person15}? {person14 > person15}')"
   ]
  },
  {
   "cell_type": "markdown",
   "metadata": {},
   "source": [
    "Using frozen to make dataclass fields immutable"
   ]
  },
  {
   "cell_type": "code",
   "execution_count": 101,
   "metadata": {},
   "outputs": [
    {
     "name": "stdout",
     "output_type": "stream",
     "text": [
      "cannot assign to field 'age'\n"
     ]
    }
   ],
   "source": [
    "@dataclass(frozen=True)\n",
    "class PersonFrozen:\n",
    "    name: str\n",
    "    age: int\n",
    "    \n",
    "person16 = PersonFrozen('Alice', 30)\n",
    "\n",
    "try:\n",
    "    person16.age = 40\n",
    "except Exception as e:\n",
    "    print(str(e))\n",
    "\n"
   ]
  },
  {
   "cell_type": "markdown",
   "metadata": {},
   "source": [
    "4. **Utility Functions**:\n",
    "    - `dataclasses.field()`: Provides customization for individual fields\n",
    "    - `dataclasses.asdict()`: Converts data class instances to dictionaries\n",
    "    - `dataclasses.astuple()`: Converts data class instances to tuples\n",
    "    - `dataclasses.replace()`: Creates a new instance replacing specified fields\n",
    "    - `dataclasses.is_dataclass()`: Checks if an object is a data class or an instance of one"
   ]
  },
  {
   "cell_type": "code",
   "execution_count": 102,
   "metadata": {},
   "outputs": [
    {
     "name": "stdout",
     "output_type": "stream",
     "text": [
      "{'name': 'Alice', 'age': 25, 'email': 'alice@example.com'}\n",
      "('Alice', 25, 'alice@example.com')\n",
      "Person(name='Alice', age=30, email='alice@example.com')\n",
      "True\n"
     ]
    }
   ],
   "source": [
    "from dataclasses import dataclass, field, asdict, astuple, replace, is_dataclass\n",
    "\n",
    "@dataclass\n",
    "class Person:\n",
    "    name: str\n",
    "    age: int\n",
    "    email: str = field(default='')\n",
    "\n",
    "person = Person('Alice', 25, 'alice@example.com')\n",
    "\n",
    "# Convert dataclass instance to a dictionary\n",
    "person_dict = asdict(person)\n",
    "print(person_dict)\n",
    "\n",
    "# Convert dataclass instance to a tuple\n",
    "person_tuple = astuple(person)\n",
    "print(person_tuple)\n",
    "\n",
    "# Create a new instance of the dataclass by replacing a field\n",
    "new_person = replace(person, age=30)\n",
    "print(new_person)\n",
    "\n",
    "# Check if an object is a dataclass or an instance of one\n",
    "print(is_dataclass(person))\n"
   ]
  },
  {
   "cell_type": "markdown",
   "metadata": {},
   "source": [
    "5. **Post Initialization**:\n",
    "    - `__post_init__`: Allows further initialization after the `__init__` method"
   ]
  },
  {
   "cell_type": "markdown",
   "metadata": {},
   "source": [
    "The __post_init__ method in a dataclass is a special method that is automatically called after the initialization of the object. It allows you to perform additional initialization steps or modify the object's attributes based on the initial values provided.\n",
    "\n",
    "In the example code below, the __post_init__ method is used to set the is_adult attribute of the Person object.\n",
    "By setting is_adult as init=False, the Person object will not make is_adult available while initialization."
   ]
  },
  {
   "cell_type": "code",
   "execution_count": 103,
   "metadata": {},
   "outputs": [
    {
     "name": "stdout",
     "output_type": "stream",
     "text": [
      "PersonPostInit.__init__() got an unexpected keyword argument 'is_adult'\n",
      "Is person adult: True\n"
     ]
    }
   ],
   "source": [
    "@dataclass\n",
    "class PersonPostInit:\n",
    "    name: str\n",
    "    age: int\n",
    "    email: str = field(default='')\n",
    "    is_adult: bool = field(init=False)\n",
    "    \n",
    "    def __post_init__(self):\n",
    "        if self.age < 0:\n",
    "            raise ValueError(f'Age {self.age} is not valid')\n",
    "        self.is_adult = self.age >= 18\n",
    "\n",
    "try:\n",
    "    person = PersonPostInit('Alice', 25, 'test', is_adult=False)\n",
    "except TypeError as e:\n",
    "    print(str(e))\n",
    "    \n",
    "person = PersonPostInit('Alice', 25, 'test')\n",
    "\n",
    "print(f'Is person adult: {person.is_adult}')"
   ]
  },
  {
   "cell_type": "markdown",
   "metadata": {},
   "source": [
    "InitVar can be used to make field available to post_init but not initialized as instance variable.\n",
    "\n",
    "In below example we are setting age as InitVar."
   ]
  },
  {
   "cell_type": "code",
   "execution_count": 104,
   "metadata": {},
   "outputs": [
    {
     "name": "stdout",
     "output_type": "stream",
     "text": [
      "PersonInitVar(name='Alice', email='test', is_adult=True)\n"
     ]
    }
   ],
   "source": [
    "from dataclasses import InitVar\n",
    "\n",
    "@dataclass\n",
    "class PersonInitVar:\n",
    "    name: str\n",
    "    age: InitVar(int)\n",
    "    email: str = field(default='')\n",
    "    is_adult: bool = field(init=False)\n",
    "    \n",
    "    def __post_init__(self, age):\n",
    "        if age < 0:\n",
    "            raise ValueError(f'Age {age} is not valid')\n",
    "        self.is_adult = age >= 18\n",
    "        \n",
    "person = PersonInitVar('Alice', 25, 'test')\n",
    "\n",
    "print(person)"
   ]
  },
  {
   "cell_type": "markdown",
   "metadata": {},
   "source": [
    "6. **Inheritance**:\n",
    "    - Ability to inherit from other data classes and regular classes"
   ]
  },
  {
   "cell_type": "code",
   "execution_count": 105,
   "metadata": {},
   "outputs": [
    {
     "name": "stdout",
     "output_type": "stream",
     "text": [
      "Employee(name='Alice', age=25, employer='ABC Corp')\n"
     ]
    }
   ],
   "source": [
    "@dataclass\n",
    "class PersonParent:\n",
    "    name: str\n",
    "    age: int\n",
    "\n",
    "@dataclass\n",
    "class Employee(PersonParent):\n",
    "    employer: str\n",
    "    \n",
    "employee = Employee('Alice', 25, 'ABC Corp')\n",
    "\n",
    "print(employee)"
   ]
  }
 ],
 "metadata": {
  "kernelspec": {
   "display_name": "Python 3",
   "language": "python",
   "name": "python3"
  },
  "language_info": {
   "codemirror_mode": {
    "name": "ipython",
    "version": 3
   },
   "file_extension": ".py",
   "mimetype": "text/x-python",
   "name": "python",
   "nbconvert_exporter": "python",
   "pygments_lexer": "ipython3",
   "version": "3.10.5"
  },
  "orig_nbformat": 4
 },
 "nbformat": 4,
 "nbformat_minor": 2
}
